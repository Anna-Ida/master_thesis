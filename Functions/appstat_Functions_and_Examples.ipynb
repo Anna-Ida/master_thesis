{
 "cells": [
  {
   "cell_type": "code",
   "execution_count": 31,
   "id": "ef7c3b45",
   "metadata": {},
   "outputs": [],
   "source": [
    "# all possibly useful imports:\n",
    "\n",
    "import numpy as np\n",
    "import matplotlib.pyplot as plt  \n",
    "import sys  \n",
    "import pandas as pd\n",
    "import seaborn as sns \n",
    "import math\n",
    "import statistics\n",
    "\n",
    "from iminuit import Minuit\n",
    "from scipy import stats\n",
    "from scipy.stats import binom, poisson, norm    \n",
    "\n",
    "from IPython.core.display import Latex\n",
    "from sympy import * \n",
    "\n",
    "\n",
    "\n",
    "sys.path.append('../External_Functions')\n",
    "from ExternalFunctions import nice_string_output, add_text_to_ax   \n",
    "from ExternalFunctions import Chi2Regression, BinnedLH, UnbinnedLH\n",
    "\n",
    "#%load_ext autoreload\n",
    "#%autoreload 2\n",
    "#from ExamFunctions import make_chi2, weighted_mean\n",
    "\n",
    "\n"
   ]
  },
  {
   "cell_type": "markdown",
   "id": "63857d54",
   "metadata": {},
   "source": [
    "# Load data"
   ]
  },
  {
   "cell_type": "code",
   "execution_count": null,
   "id": "15cd698e",
   "metadata": {},
   "outputs": [],
   "source": [
    "# load into numpy array:\n",
    "F_data = np.loadtxt(\"data_FisherSyndrome.txt\") \n",
    "print(\"Number of entries: \", len(F_data))\n",
    "\n",
    "# pandas dataframe:\n",
    "Fisher_df = pd.DataFrame(data=F_data, columns=[\"Ill\", \"Index\", \"A\", \"B\", \"C\"]) "
   ]
  },
  {
   "cell_type": "markdown",
   "id": "2c731cbb",
   "metadata": {},
   "source": [
    "# Functions"
   ]
  },
  {
   "cell_type": "code",
   "execution_count": null,
   "id": "06f385b3",
   "metadata": {},
   "outputs": [],
   "source": [
    "# uncertainty on the mean:\n",
    "sigma_mu = np.std(data) / np.sqrt(len(data))\n",
    "\n",
    "\n",
    "# Uncertainty on uncertainty (standard deviation): \n",
    "sigma_sigma = 1/ np.sqrt(2*N-2)\n",
    "\n"
   ]
  },
  {
   "cell_type": "markdown",
   "id": "8ecc99e7",
   "metadata": {},
   "source": [
    "## Weighted mean"
   ]
  },
  {
   "cell_type": "code",
   "execution_count": 2,
   "id": "7cddc680",
   "metadata": {},
   "outputs": [],
   "source": [
    "def weighted_mean(x, x_err):\n",
    "    \"\"\"\n",
    "    calculates weighted mean and its chi2 values\n",
    "    returns weighted mean (muhat) and uncertainty (sigmahat)\n",
    "    \n",
    "    Use like this: muhat, sigmahat = weighted_mean(x, xerr)\n",
    "    \"\"\"\n",
    "    \n",
    "    err2 = np.power(x_err,2)\n",
    "    err2[np.where(err2 == 0)] = 1e-50\n",
    "    \n",
    "    muhat = np.sum(x/err2) / np.sum(1/err2)\n",
    "    sigmahat = np.sqrt(1/np.sum(1/err2))\n",
    "      \n",
    "    # calculate chi2\n",
    "    chi2 = np.sum(((x - muhat) / x_err)**2)\n",
    "    ndof = len(x) - 1\n",
    "    p_val = stats.chi2.sf(chi2, ndof)\n",
    "    \n",
    "    # print mean, uncertainty, Chi2/Ndof and p-value\n",
    "    print(f\"    Weighted mean: {muhat:.4f} +- {sigmahat:.5f}    ({len(x)} measurements) \")\n",
    "    print(f\"    p(𝜒2={chi2:.2f}, Ndof={ndof}) = {p_val:.6f}\")\n",
    "    print(f\"    𝜒2/Ndof  = {chi2 / ndof:.4f}\")\n",
    "    \n",
    "    return muhat, sigmahat\n",
    "\n",
    "\n"
   ]
  },
  {
   "cell_type": "markdown",
   "id": "c4b50c13",
   "metadata": {},
   "source": [
    "## Likelihood of outliers (Gaussian distribution)"
   ]
  },
  {
   "cell_type": "code",
   "execution_count": 259,
   "id": "5c88d6fe",
   "metadata": {},
   "outputs": [
    {
     "name": "stdout",
     "output_type": "stream",
     "text": [
      "Meas. No.  -   Residuals (unit) -   No. sigma   -    Probability   -   Conclusion  - global prop \n",
      "     1     -       0.28         -     1.87      -    0.06194815    -   Accepted    -  0.4376\n",
      "     2     -       0.46         -     4.60      -    0.00000422    -   Rejected    -  0.0000\n",
      "     3     -       0.20         -     1.82      -    0.06903635    -   Accepted    -  0.4747\n",
      "     4     -       0.05         -     0.62      -    0.53197106    -   Accepted    -  0.9989\n",
      "     5     -       0.16         -     1.14      -    0.25309791    -   Accepted    -  0.9277\n",
      "     6     -       0.04         -     0.67      -    0.50498508    -   Accepted    -  0.9982\n",
      "     7     -       0.04         -     1.33      -    0.18242244    -   Accepted    -  0.8368\n",
      "     8     -       0.01         -     0.08      -    0.93868474    -   Accepted    -  1.0000\n",
      "     9     -       0.03         -     0.75      -    0.45325470    -   Accepted    -  0.9956\n"
     ]
    }
   ],
   "source": [
    "# Quantify likelihood of outliers:\n",
    "\n",
    "def test_outliers(xdata, sigma_x, mu):\n",
    "    '''Qunatifies the likelihood for every measurement \n",
    "    based on their distance to the mean in units of their respective uncertainty\n",
    "    ! Assumes Gaussian distribution !'''\n",
    "    \n",
    "    for i in range(len(xdata)):\n",
    "        x = xdata[i]\n",
    "        sig_x = sigma_x[i]      # pretty sure this is correct...\n",
    "        #sigmahat      # which sigma to use?? uncertainty on ind. measurement or on mean???\n",
    "\n",
    "        dist = abs(x - mu)\n",
    "        z = abs((x-mu)/sig_x)\n",
    "        p = stats.norm.sf(abs(z))*2      # two-sided test\n",
    "        \n",
    "        # possibly take trial factor into account (if large sample):\n",
    "        p_glob = 1 - (1 - p)**(len(xdata))\n",
    "        \n",
    "        \n",
    "        if (p < 0.05):\n",
    "            conc = 'Rejected'\n",
    "        else: conc = 'Accepted'\n",
    "\n",
    "        if (i==0):\n",
    "            print(f'Meas. No.  -   Residuals (unit) -   No. sigma   -    Probability   -   Conclusion  - global prop ')\n",
    "\n",
    "        print(f'     {i+1}     -       {dist:.2f}         -     {z:.2f}      -    {p:.8f}    -   {conc}    -  {p_glob:.4f}')\n",
    "\n",
    "\n",
    "# Example data:      \n",
    "g = [9.54, 9.36, 10.02, 9.87, 9.98, 9.86, 9.86, 9.81, 9.79]\n",
    "sigma_g = [0.15, 0.10, 0.11, 0.08, 0.14, 0.06, 0.03, 0.13, 0.04]\n",
    "muhat, sigmahat = 9.82, 0.02 \n",
    "\n",
    "test_outliers(g, sigma_g, muhat)"
   ]
  },
  {
   "cell_type": "markdown",
   "id": "19555394",
   "metadata": {},
   "source": [
    "## Trial factor"
   ]
  },
  {
   "cell_type": "code",
   "execution_count": 260,
   "id": "27a314cd",
   "metadata": {},
   "outputs": [
    {
     "name": "stdout",
     "output_type": "stream",
     "text": [
      " p global = 0.0001 (with trial factor 20 and p local 3.17e-06) \n"
     ]
    }
   ],
   "source": [
    "# Calculate global significance taking trial factor = N into account:\n",
    "n = 20\n",
    "p_loc = p_val\n",
    "\n",
    "p_glob = 1 - (1 - p_loc)**n\n",
    "print(f' p global = {p_glob:.4f} (with trial factor {n} and p local {p_loc:.2e}) ')"
   ]
  },
  {
   "cell_type": "markdown",
   "id": "82dad7ee",
   "metadata": {},
   "source": [
    "# I Distributions and Probabilities"
   ]
  },
  {
   "cell_type": "code",
   "execution_count": null,
   "id": "8b9b2ba2",
   "metadata": {},
   "outputs": [],
   "source": [
    "def test_dist(n,p):\n",
    "    '''Based on n and p, tests if it can be a Poisson or a Gaussian distribution.'''\n",
    "    if (n > 50) & (p < 0.1):    \n",
    "        print(f\" POISSON: n = {n}, p = {p} => Poisson approximation holds (n=50, p=0.1).\")\n",
    "    else:\n",
    "        print(f\" n = {n}, p = {p} => Poisson approximation does NOT hold (n=50, p=0.1).\")\n",
    "    if ((n*p)>20):\n",
    "        print(f\" GAUSSIAN: lambda = {n*p} => Gaussian approximation holds (lambda > 20).\")\n",
    "    else:\n",
    "        print(f\" lambda = n*p = {n*p} => Gaussian approximation does NOT hold (lambda > 20).\")\n",
    "        \n"
   ]
  },
  {
   "cell_type": "markdown",
   "id": "301c5f85",
   "metadata": {},
   "source": [
    "## Binomial probability\n",
    "Points are given for:\n",
    "* correctly calculated probabilities\n",
    "* mentioning Poisson distribution\n",
    "\n",
    "Points are taken away for:\n",
    "* wrong interpretation of results\n",
    "* misinterpretation of the question\n",
    "\n",
    "A game is worth playing if probability > 50%"
   ]
  },
  {
   "cell_type": "code",
   "execution_count": 233,
   "id": "dd177dd9",
   "metadata": {},
   "outputs": [
    {
     "name": "stdout",
     "output_type": "stream",
     "text": [
      "RESULT: Probability for 1 - 4 successes in 4 tries = 0.517747\n",
      "42\n",
      "RESULT: Probability for 1 - 42 successes in 42 tries = 0.902853\n",
      "SIMULATED RESULT: Probability for 1 - 4 successes in 4 tries = 0.518600   (100000 simulations)\n"
     ]
    }
   ],
   "source": [
    "def binomial_prob(possible_outcomes, p, n):\n",
    "    '''\n",
    "    Calculates Probability of getting x or more successes in n trials\n",
    "    following binomial probability function: sum of p(x) + p(x+1) + .... + p(x+...),\n",
    "    where P(X=r) = nCr * pʳ * (1-p)ⁿ⁻ʳ\n",
    "    '''\n",
    "    overall_prob = 0\n",
    "\n",
    "    for outcome in possible_outcomes:\n",
    "        \n",
    "        r = outcome\n",
    "        combinations = np.math.factorial(n)/ (np.math.factorial(r) * np.math.factorial(n-r))\n",
    "        prob = combinations * p**r * (1-p)**(n-r)\n",
    "        #print(f\" Probability for {outcome} successes = {prob}\")\n",
    "        overall_prob += prob\n",
    "\n",
    "    #print(f\"RESULT: Probability for {possible_outcomes[0]} - {possible_outcomes[-1]} successes in {n} tries = {overall_prob:f}\")\n",
    "    return overall_prob\n",
    "\n",
    "# use like this:\n",
    "p = 1/6\n",
    "n = 4\n",
    "poss_outcomes = [1,2,3,4]\n",
    "prob = binomial_prob(poss_outcomes, p, n)\n",
    "print(f\"RESULT: Probability for {poss_outcomes[0]} - {poss_outcomes[-1]} successes in {n} tries = {prob:f}\")\n",
    "    \n",
    "\n",
    "\n",
    "# -------------------------------\n",
    "# Brad Pitt and Edward Norton are shooting golf balls at a window with p_hit = 0.054 chance of hitting. \n",
    "# How many golf balls do they need to be 90% sure of hitting the window?\n",
    "\n",
    "p = 0.054\n",
    "for n in np.arange(2,100):\n",
    "    poss_outcomes = np.arange(1,n+1)\n",
    "    prob = binomial_prob(poss_outcomes, p, n)\n",
    "    if (prob>0.9):\n",
    "        print(n)\n",
    "        print(f\"RESULT: Probability for {poss_outcomes[0]} - {poss_outcomes[-1]} successes in {n} tries = {prob:f}\")\n",
    "        break\n",
    "        \n",
    "\n",
    "# -------------------------------\n",
    "# Simulate probabilities:\n",
    "\n",
    "# Probability for 1 - 4 successes in 4 tries:\n",
    "\n",
    "n = 4\n",
    "p = 1/6\n",
    "nexp = 100000\n",
    "\n",
    "successes = np.zeros(nexp)\n",
    "\n",
    "r = np.random\n",
    "#r.seed(42)\n",
    "\n",
    "for i in range(nexp):\n",
    "    dice_rolls = r.randint(low=1, high=6+1, size=n, dtype=int)\n",
    "    successes[i] = np.sum(dice_rolls==6)\n",
    "\n",
    "\n",
    "sim_prob = np.sum(successes > 0) / len(successes)\n",
    "print(f\"SIMULATED RESULT: Probability for 1 - {n} successes in {n} tries = {sim_prob:f}   ({nexp} simulations)\")\n",
    "\n",
    "    \n",
    "        \n",
    "    "
   ]
  },
  {
   "cell_type": "markdown",
   "id": "bbdd5609",
   "metadata": {},
   "source": [
    "## Poisson probability"
   ]
  },
  {
   "cell_type": "code",
   "execution_count": 238,
   "id": "667ac35d",
   "metadata": {},
   "outputs": [
    {
     "name": "stdout",
     "output_type": "stream",
     "text": [
      " probability (X = k = 42) = 1.80e-06, 1.80e-06\n",
      " The probability of 41 or more (extreme) events is: 3.17e-06 (local significance)\n",
      " p global = 0.0055 (with trial factor 1730 and p local 3.17e-06) \n"
     ]
    }
   ],
   "source": [
    "def my_poisson(my_k, my_lamb):   # k = number of occurences\n",
    "    return my_lamb**my_k / np.math.factorial(my_k) * np.exp(-my_lamb)\n",
    "\n",
    "from scipy.stats import poisson\n",
    "\n",
    "\n",
    "# Poisson probability for one value of k (= occurences):\n",
    "k = 42\n",
    "lamb = 18.9  #n*p\n",
    "n = 1730\n",
    "mu = lamb\n",
    "\n",
    "prob_k = my_poisson(k, lamb)             # version 1\n",
    "prob_k2 = poisson.pmf(k, mu, loc=0)      # version 2, gives same result\n",
    "\n",
    "print(f' probability (X = k = {k}) = {prob_k:.2e}, {prob_k2:.2e}')\n",
    "\n",
    "\n",
    "# Poisson significance of a value (= integral of that value and beyond, like Gaussian p-val):\n",
    "\n",
    "# version 1:   (CORRECT)\n",
    "k_list = np.arange(0,42)                \n",
    "neg_p_val = 0\n",
    "for ks in k_list:  \n",
    "    neg_p_val += my_poisson(ks, lamb)\n",
    "p_val = 1 - neg_p_val\n",
    "print(f' The probability of {k_list[-1]} or more (extreme) events is: {p_val:.2e} (local significance)')\n",
    "\n",
    "\n",
    "# version 2 & 3: ----------------- give WRONG results!! bc they take the integral, not the sum! ---\n",
    "p_val2 = 1 - poisson.cdf(k=42, mu=18.9, loc=0)\n",
    "p_val3 = poisson.sf(k, mu, loc=0)         # sf = survival function, defined as 1 - cdf   => more accurate\n",
    "#print(f' p local = {p_val:.2e}, {p_val3:.2e}')\n",
    "#print('  NOT THE SAME - OURS IS CORRECT!')\n",
    "\n",
    "#print(f' The probability of {k_list[-1]} or more (extreme) events is: $\\sum_{i={{k_list[-1]}}}^{i=\\infty}$')\n",
    "\n",
    "#p(42 + events) = ∑ Pois(i, λ) = 0.00000317)\n",
    "\n",
    "\n",
    "# ------------------------------------------------\n",
    "# Calculate global significance taking trial factor = N into account:\n",
    "\n",
    "p_loc = p_val\n",
    "p_glob = 1 - (1 - p_loc)**n\n",
    "print(f' p global = {p_glob:.4f} (with trial factor {n} and p local {p_loc:.2e}) ')\n",
    "\n"
   ]
  },
  {
   "cell_type": "markdown",
   "id": "bf18b65f",
   "metadata": {},
   "source": [
    "## Gaussian probability"
   ]
  },
  {
   "cell_type": "code",
   "execution_count": null,
   "id": "aa16f87f",
   "metadata": {},
   "outputs": [],
   "source": [
    "def z_test_onesample(x,mu,sig_x):\n",
    "    '''\n",
    "    One-sample z-Test (Gaussian assumption)\n",
    "    Rule-of-thumb: If N > 10-20 or σ known then Z-test, else T-test.\n",
    "    This is a two-tailed test!\n",
    "    '''\n",
    "    z = (x-mu)/sig_x\n",
    "    #print(f\" z-score = {z}\")\n",
    "    print(f\" {x:.2f} is {z:.4f} sigma away from {mu:.2f}.\")\n",
    "\n",
    "    #find p-value for two-tailed test\n",
    "    p_val = stats.norm.sf(abs(z))*2\n",
    "    print(f\" p-value = {p_val:.4f}\")\n",
    "    \n",
    "    return p_val\n",
    "\n",
    "    # Find prob from z-score:\n",
    "    # left-tailed: scipy.stats.norm.sf(abs(-0.77))\n",
    "    # right-tailed: scipy.stats.norm.sf(abs(1.87))\n",
    "    # two-tailed: scipy.stats.norm.sf(abs(1.24))*2\n",
    "\n",
    "\n",
    "def z_test_twosample(x1,x2,sig_x1, sig_x2):\n",
    "    '''\n",
    "    Two-sample z-Test (Gaussian assumption)\n",
    "    Rule-of-thumb: If N > 10-20 or σ known then Z-test, else T-test.\n",
    "    This is a two-tailed test!\n",
    "    '''\n",
    "    z = (x1-x2)/(np.sqrt(sig_x1**2 + sig_x2**2))\n",
    "    #print(f\" z-score = {z}\")\n",
    "    print(f\" {x:.2f} is {z:.4f} sigma away from {mu:.2f}.\")\n",
    "\n",
    "    #find p-value for two-tailed test\n",
    "    p_val = stats.norm.sf(abs(z))*2\n",
    "    print(f\" p-value = {p_val:.4f}\")\n",
    "    \n",
    "    return p_val    "
   ]
  },
  {
   "cell_type": "markdown",
   "id": "b871d57b",
   "metadata": {},
   "source": [
    "# II - Error propagation"
   ]
  },
  {
   "cell_type": "code",
   "execution_count": 157,
   "id": "f542218c",
   "metadata": {},
   "outputs": [
    {
     "name": "stdout",
     "output_type": "stream",
     "text": [
      "y = (30.00 ± 3.11) unit\n"
     ]
    }
   ],
   "source": [
    "a = 5\n",
    "b = 3\n",
    "\n",
    "y = 2 * a * b\n",
    "\n",
    "sigma_a = 0.1\n",
    "sigma_b = 0.5\n",
    "\n",
    "derivative_a = a**2/b\n",
    "derivative_b = 2*b\n",
    "\n",
    "sigma_y = np.sqrt(derivative_a**2 * sigma_a**2 + derivative_b**2 * sigma_b**2)\n",
    "\n",
    "print(f'y = ({y:.2f} ± {sigma_y:.2f}) unit')"
   ]
  },
  {
   "cell_type": "markdown",
   "id": "87c8124f",
   "metadata": {},
   "source": [
    "## Simulating uncertainties"
   ]
  },
  {
   "cell_type": "code",
   "execution_count": 264,
   "id": "81a1ca25",
   "metadata": {},
   "outputs": [
    {
     "name": "stdout",
     "output_type": "stream",
     "text": [
      "  Mean ± Std = 0.521 ± 0.016\n"
     ]
    },
    {
     "data": {
      "image/png": "[encoded data removed]",
      "text/plain": [
       "<Figure size 720x360 with 1 Axes>"
      ]
     },
     "metadata": {
      "needs_background": "light"
     },
     "output_type": "display_data"
    }
   ],
   "source": [
    "# Simulate uncertainties:\n",
    "\n",
    "N_exp = 10000                       # Number of \"experiments\" (i.e. drawing from random distributions)\n",
    "mu_a, sig_a   =   0.96, 0.03    #3.1, 0.98          # enter values here\n",
    "mu_b, sig_b   =  8.4, 0.5\n",
    "\n",
    "r = np.random\n",
    "r.seed(42)\n",
    "a_sim = r.normal(mu_a, sig_a, N_exp)\n",
    "b_sim = r.normal(mu_b, sig_b, N_exp)\n",
    "\n",
    "y_all = (1 + a_sim**2)**(-1)  # 1/2 * a_sim * b_sim**2     # enter correct formula here!\n",
    "#y_all = (1 - a_sim)**(-2)  # 1/2 * a_sim * b_sim**2         # enter correct formula here!\n",
    "\n",
    "mean, std = y_all.mean(), y_all.std(ddof=1)\n",
    "print(f\"  Mean ± Std = {mean:5.3f} ± {std:5.3f}\")     # gives same result as error prop formula, if Gaussian\n",
    "\n",
    "\n",
    "# Plot result\n",
    "# -------------------------------------------------------------\n",
    "nbins = 200                        # set how I want it\n",
    "xmin, xmax = 0.4,0.65                   # set how I want it\n",
    "binwidth = (xmax-xmin)/nbins\n",
    "\n",
    "fig2, ax2 = plt.subplots(figsize=(10, 5));\n",
    "counts, bin_edges, _ = ax2.hist(y_all, nbins, range=(xmin, xmax), histtype='step', linewidth=2, label = 'Simulated data')\n",
    "bin_centers = (bin_edges[1:] + bin_edges[:-1])/2\n",
    "s_counts = np.sqrt(counts)\n",
    "ax2.set(xlabel='Values of y', ylabel='Frequency')\n",
    "\n",
    "# evaluate if it is a Gaussian distribution:\n",
    "def gaussian(x, N, mu, sigma):\n",
    "    return N * binwidth / (sigma*np.sqrt(2*np.pi)) * np.exp(-0.5* (x-mu)**2/sigma**2)\n",
    "\n",
    "xaxis = np.linspace(xmin, xmax, 1000)\n",
    "yaxis = gaussian(xaxis, N_exp, mean, std)\n",
    "ax2.plot(xaxis, yaxis, linewidth=2, label = 'Gaussian')\n",
    "ax2.legend()\n",
    "\n",
    "d = {'Mean:': mean, 'Std:': std}\n",
    "text = nice_string_output(d, extra_spacing=2, decimals=3)   # select how many decimals\n",
    "add_text_to_ax(0.1, 0.8, text, ax2, fontsize=15);\n",
    "\n",
    "#fig2.savefig('sim_uncertainties.jpg', dpi=600)\n",
    "\n"
   ]
  },
  {
   "cell_type": "markdown",
   "id": "9dfdabcd",
   "metadata": {},
   "source": [
    "# III - Monte Carlo"
   ]
  },
  {
   "cell_type": "markdown",
   "id": "bd3132a0",
   "metadata": {},
   "source": [
    "## Transformation method"
   ]
  },
  {
   "cell_type": "code",
   "execution_count": 159,
   "id": "7d57e9d3",
   "metadata": {},
   "outputs": [
    {
     "name": "stdout",
     "output_type": "stream",
     "text": [
      "Nbins = 100 close to sqrt(n) = 100?\n"
     ]
    },
    {
     "data": {
      "image/png": "[encoded data removed]",
      "text/plain": [
       "<Figure size 720x360 with 1 Axes>"
      ]
     },
     "metadata": {
      "needs_background": "light"
     },
     "output_type": "display_data"
    }
   ],
   "source": [
    "# TRANSFORMATION METHOD:\n",
    "\n",
    "# Define functions and variables: -----------------------------\n",
    "def my_func(x) :\n",
    "    k = (xmax - xmin) / N_bins\n",
    "    N = N_points * k             # Normalization is N_points * binwidth:\n",
    "    return N * x**3              # = anti-normalizing the function\n",
    "\n",
    "def Fminusr(y):                  # F^-1(r): inverse of the integral   \n",
    "    return (4*y)**(1/4) \n",
    "  \n",
    "xmin, xmax = 1, 4**(1/4)      # x range \n",
    "N_points = 10000              # Number of random points produced\n",
    "N_bins = 100                  # how many bins? rule of thumb: sqrt of n\n",
    "print(f\"Nbins = {Nbins} close to sqrt(n) = {np.sqrt(N_points):.0f}?\")    \n",
    "\n",
    "C = 1    # possibly needed normalization parameter\n",
    "\n",
    "\n",
    "# -----------------------------------------------------------\n",
    "# produce random points\n",
    "r = np.random\n",
    "r.seed(42)\n",
    "x_transformation = Fminusr(r.uniform(size=N_points))   \n",
    "\n",
    "# Plot histogram and function on top:\n",
    "fig, ax = plt.subplots(figsize=(10, 5))\n",
    "ax.hist(x_transformation, bins=N_bins, range=(xmin, xmax), histtype='step', label='histogram' )\n",
    "ax.set(xlabel=\"x\", ylabel=\"Frequency\") #, xlim=(xmin-0.1, xmax+0.1));\n",
    "\n",
    "x_axis1 = np.linspace(xmin, xmax, 1000)\n",
    "y_axis1 = my_func(x_axis1)\n",
    "ax.plot(x_axis1, y_axis1, 'r-', label='function (not fitted)')\n",
    "\n",
    "d = {'Entries': len(x_transformation), 'Mean': x_transformation.mean(), 'Std': x_transformation.std(ddof=1)}\n",
    "text = nice_string_output(d, extra_spacing=2, decimals=3)\n",
    "#add_text_to_ax(0.05, 0.75, text, ax, fontsize=14)\n",
    "\n",
    "ax.legend(loc='best')\n",
    "fig.tight_layout()\n",
    "\n",
    "# fig.savefig(\"TransformationMethod.pdf\", dpi=600)\n",
    "\n"
   ]
  },
  {
   "cell_type": "markdown",
   "id": "58d62754",
   "metadata": {},
   "source": [
    "## Accept-reject method"
   ]
  },
  {
   "cell_type": "code",
   "execution_count": 160,
   "id": "822fc175",
   "metadata": {},
   "outputs": [
    {
     "name": "stdout",
     "output_type": "stream",
     "text": [
      "Integral of f(x) = C*x**(-0.9), x in [0.005, 1] is: \t  0.9939 +- 0.0098\n",
      "The efficiency of the accept/reject method is:  \t 3.49% +/- 0.03%\n"
     ]
    },
    {
     "data": {
      "image/png": "[encoded data removed]",
      "text/plain": [
       "<Figure size 720x360 with 1 Axes>"
      ]
     },
     "metadata": {
      "needs_background": "light"
     },
     "output_type": "display_data"
    }
   ],
   "source": [
    "# ACCEPT-REJECT METHOD:\n",
    "\n",
    "# Define function and parameters: ------------------------------\n",
    "def my_func(x):\n",
    "    return C * x**(-0.9)    # no need to normalize, as it is a PDF...\n",
    "\n",
    "xmin, xmax = 0.005, 1       # set x-range\n",
    "C = 0.243134                # define parameters\n",
    "ymax = my_func(xmin)\n",
    "N_points = 10000            # how many random points to produce?\n",
    "#Nbins = 100                 # how many bins (for normalization)? rule of thumb: sqrt of n\n",
    "#print(f\"Nbins = {Nbins} close to sqrt(n) = {np.sqrt(N_points):.0f}?\")\n",
    "\n",
    "\n",
    "# SIMULATE -----------------------------------------------------------\n",
    "x_sim = np.zeros(N_points)\n",
    "y_sim = np.zeros(N_points)\n",
    "Ntry = 0\n",
    "r = np.random\n",
    "r.seed(42)\n",
    "\n",
    "for i in range(N_points):\n",
    "    while True:\n",
    "        Ntry += 1\n",
    "        x2 = r.uniform(xmin, xmax)  \n",
    "        y2 = r.uniform(0,    ymax)        \n",
    "        if (y2 < my_func(x2)) :       # If the (x,y)-point fulfills the accept condition...\n",
    "            break\n",
    "            \n",
    "    x_sim[i] = x2                     # ...then break and accept the x-value\n",
    "    y_sim[i] = y2  \n",
    "    \n",
    "# -----------------------------------------------------------\n",
    "eff = N_points / Ntry                        # Efficiency of generating points (fraction accepted)\n",
    "eff_error = np.sqrt(eff * (1-eff) / Ntry)    # Error on efficiency (binomial)\n",
    "integral =  eff * (xmax-xmin) * ymax               # Integral\n",
    "integral_error = eff_error * (xmax-xmin) * ymax    # Error on integral\n",
    "print(f\"Integral of f(x) = C*x**(-0.9), x in [0.005, 1] is: \\t {integral:7.4f} +- {integral_error:6.4f}\")\n",
    "print(f\"The efficiency of the accept/reject method is:  \\t {eff:.2%} +/- {eff_error:.2%}\")\n",
    "# Since the integral of x*cos in [0,pi/2] is around 0.57, the proper normalisation is 1/0.57\n",
    "# -----------------------------------------------------------\n",
    "\n",
    "fig3, ax3 = plt.subplots(figsize=(10, 5))\n",
    "ax3.scatter(x_sim, y_sim, s=1, label='Generated data')  # s defines point size \n",
    "ax3.set(xlabel=\"x\", ylabel=\"f(x)\", title=f'{N_points} random points of f(x) produced with accept-reject method') #, xlim=(0, 10), ylim=(0, 0.4))\n",
    "# optional: specify x range in label: x ∈ [0.005,1]\n",
    "\n",
    "# Plot f(x)\n",
    "x_axis = np.linspace(xmin, xmax, 1000)\n",
    "y_axis = my_func(x_axis)\n",
    "ax3.plot(x_axis, y_axis,'r-', label='Function (not fitted)') \n",
    "\n",
    "# Make figure text\n",
    "d3 = {'Entries': len(x_sim), 'Mean x': x_sim.mean(), 'Mean y ': y_sim.mean(), 'Std x': x_sim.std(ddof=1),'Std y': y_sim.std(ddof=1)}\n",
    "      #'Median x': np.median(x_sim), 'Median y': np.median(y_sim),\n",
    "text3 = nice_string_output(d3, extra_spacing=2, decimals=3)\n",
    "#add_text_to_ax(0.6, 0.7, text3, ax3, fontsize=15)\n",
    "\n",
    "ax3.legend(loc='best')\n",
    "fig3.tight_layout()\n",
    "\n",
    "#fig3.savefig(\"accept_reject.pdf\", dpi=600)\n"
   ]
  },
  {
   "cell_type": "markdown",
   "id": "f876f3a0",
   "metadata": {},
   "source": [
    "## Combination: accept-reject bound with a function"
   ]
  },
  {
   "cell_type": "code",
   "execution_count": 183,
   "id": "a654c350",
   "metadata": {},
   "outputs": [
    {
     "data": {
      "text/plain": [
       "[<matplotlib.lines.Line2D at 0x1446a7940>]"
      ]
     },
     "execution_count": 183,
     "metadata": {},
     "output_type": "execute_result"
    },
    {
     "data": {
      "image/png": "[encoded data removed]",
      "text/plain": [
       "<Figure size 720x360 with 1 Axes>"
      ]
     },
     "metadata": {
      "needs_background": "light"
     },
     "output_type": "display_data"
    }
   ],
   "source": [
    "# COMBINATION: ACCEPT-REJECT bound with a function\n",
    "\n",
    "\n",
    "#1. plot function and find a function that is always larger:\n",
    "\n",
    "def fx(x) :\n",
    "    return x * np.exp(-x) \n",
    "    # potentially need to normalize with C   (or with N_points * binwidth ?)   (binwidth = (xmax - xmin) / N_bins) \n",
    "\n",
    "def gx(x) :\n",
    "    return np.exp(-x/3)\n",
    "\n",
    "xmin, xmax = 0, 10\n",
    "N_bins = 100\n",
    "N_points = 1000\n",
    "\n",
    "fig, ax = plt.subplots(figsize=(10, 5))\n",
    "x_axis1 = np.linspace(xmin, xmax, N_points)\n",
    "y_axis1 = fx_norm(x_axis1)\n",
    "y_axis2 = gx(x_axis1)\n",
    "\n",
    "ax.plot(x_axis1, y_axis1, 'r-', label='f(x)')\n",
    "ax.plot(x_axis1, y_axis2, 'b-', label='g(x)')\n"
   ]
  },
  {
   "cell_type": "code",
   "execution_count": 184,
   "id": "9c6d6b89",
   "metadata": {},
   "outputs": [
    {
     "name": "stdout",
     "output_type": "stream",
     "text": [
      "Integral of f(x) = ..., x in [0,inf] is:  \t  0.9930 +- 0.0257\n",
      "The efficiency of the accept/reject method used here is: \t 33.10% +/- 0.86%\n"
     ]
    },
    {
     "data": {
      "image/png": "[encoded data removed]",
      "text/plain": [
       "<Figure size 720x360 with 1 Axes>"
      ]
     },
     "metadata": {
      "needs_background": "light"
     },
     "output_type": "display_data"
    }
   ],
   "source": [
    "# Produce points following g(x) using the transformation method:\n",
    "\n",
    "# define function and parameters:\n",
    "\n",
    "\n",
    "def fx(x) :\n",
    "    return x * np.exp(-x) \n",
    "\n",
    "def gx(x) :\n",
    "    return np.exp(-x/3)\n",
    "\n",
    "def gx_inv(x):                 # inverse of g(x)\n",
    "    return -3.0 * np.log(x)\n",
    "\n",
    "N_points = 1000 \n",
    "xmin, xmax = 0, 10\n",
    "\n",
    "# -----------------------------\n",
    "\n",
    "x_sim = np.zeros(N_points)       # these are the relevant values of f(x)!! => can be used for histogram\n",
    "y_sim = np.zeros(N_points)       # We also save the y-values simply to make an illustrative scatter plot!\n",
    "Ntry = 0\n",
    "\n",
    "r.seed(42)\n",
    "for i in range(N_points):\n",
    "    while True:\n",
    "        Ntry += 1\n",
    "        x3 = gx_inv(r.uniform(low=0.0, high=1.0))   # producing x-values following transformation method \n",
    "        y3 = r.uniform(0.0, gx(x3))                 # producing y-values in range 0 - g(x)\n",
    "        if (y3 < fx(x3)) :                  # accept if compatible with f(x)\n",
    "            break\n",
    "            \n",
    "    x_sim[i] = x3                           \n",
    "    y_sim[i] = y3\n",
    "    \n",
    "# --------------------------\n",
    "f  = N_points / Ntry\n",
    "ef = np.sqrt(f * (1.0-f) / Ntry)\n",
    "\n",
    "integral3  = 3.0 * f       # Multiply integral of exponential (k(x)) with fraction\n",
    "eintegral3 = 3.0 * ef      # Same for error\n",
    "\n",
    "print(f\"Integral of f(x) = ..., x in [0,inf] is:  \\t {integral3:7.4f} +- {eintegral3:6.4f}\")\n",
    "print(f\"The efficiency of the accept/reject method used here is: \\t {f:.2%} +/- {ef:.2%}\")\n",
    "# ----------------------------------\n",
    "\n",
    "\n",
    "# Distribution of (x,y) points (for illustration) with h(x) and k(x) on top:\n",
    "fig3, ax3 = plt.subplots(figsize=(10, 5))\n",
    "ax3.scatter(x_sim, y_sim, s=1, label='generated data')\n",
    "ax3.set(xlim=(0, 10), ylim=(0, 1), xlabel='x', ylabel='y')\n",
    "\n",
    "\n",
    "# Plot f(x)\n",
    "x_axis3 = np.linspace(0, 10, 1000)\n",
    "y_axis3 = fx(x_axis3)\n",
    "ax3.plot(x_axis3, y_axis3,'r-', label='f(x) = x * exp(-x)')  # insert correct function here\n",
    "\n",
    "# Plot g(x)\n",
    "x_axis4 = np.linspace(0, 10, 1000)\n",
    "y_axis4 = gx(x_axis4)\n",
    "ax3.plot(x_axis4, y_axis4,'b-', label='g(x) = exp(-x/3)')    # insert correct function here\n",
    "\n",
    "# Make figure text\n",
    "d3 = {'Entries': len(x_sim),\n",
    "      'Mean x': x_sim.mean(),\n",
    "      'Mean y': y_sim.mean(),\n",
    "      'Median x': np.median(x_sim),\n",
    "      'Median y': np.median(y_sim),\n",
    "      'Std x': x_sim.std(ddof=1),\n",
    "      'Std y': y_sim.std(ddof=1),\n",
    "     }\n",
    "\n",
    "text3 = nice_string_output(d3, extra_spacing=2, decimals=3)\n",
    "add_text_to_ax(0.6, 0.7, text3, ax3, fontsize=16)\n",
    "\n",
    "ax3.legend(loc='best')\n",
    "fig3.tight_layout()\n",
    "\n",
    "\n",
    "#fig3.savefig(\"ScatterAnd2Func.pdf\", dpi=600)"
   ]
  },
  {
   "cell_type": "markdown",
   "id": "09a2b908",
   "metadata": {},
   "source": [
    "# IV - Statistical tests"
   ]
  },
  {
   "cell_type": "code",
   "execution_count": null,
   "id": "4dcb6fe8",
   "metadata": {},
   "outputs": [],
   "source": [
    "def make_chi2(y_data, y_fit, sigma_y, ndof):\n",
    "    \"\"\"\n",
    "    Calculates the chi2 value between two arrays: data and fit.\n",
    "    Returns Chi2, p-value and ndof and prints them in a nice format.\n",
    "    Gaussian assumption!\n",
    "    \n",
    "    Use like this: chi2, pval, ndof = make_chi2(y_data, y_fit, sigma_y, ndof)\n",
    "    \"\"\"\n",
    "    \n",
    "    chi2 = 0\n",
    "    for i in range(len(y_data)):\n",
    "        chi2 += (y_data[i] - y_fit[i])**2/sigma_y**2\n",
    "        \n",
    "    # chi2_np = np.sum((y_data-y_fit)**2 / sigma_y**2)   # numpy optimized way\n",
    "\n",
    "    p_val = stats.chi2.sf(chi2, ndof)\n",
    "    \n",
    "    # Report result:\n",
    "    print(f\"p(𝜒2={chi2:.2f}, Ndof={ndof}) = {p_val:.6f}\")\n",
    "    print(f\"𝜒2/Ndof  = {chi2 / ndof:.4f}\")\n",
    "    \n",
    "    return chi2, p_val, ndof\n",
    "\n"
   ]
  },
  {
   "cell_type": "code",
   "execution_count": null,
   "id": "cc9865d9",
   "metadata": {},
   "outputs": [],
   "source": [
    "def z_test_onesample(x,mu,sig_x):\n",
    "    '''\n",
    "    One-sample z-Test (Gaussian assumption)\n",
    "    Rule-of-thumb: If N > 10-20 or σ known then Z-test, else T-test.\n",
    "    This is a two-tailed test!\n",
    "    '''\n",
    "    z = (x-mu)/sig_x\n",
    "    #print(f\" z-score = {z}\")\n",
    "    print(f\" {x:.2f} is {z:.4f} sigma away from {mu:.2f}.\")\n",
    "\n",
    "    #find p-value for two-tailed test\n",
    "    p_val = stats.norm.sf(abs(z))*2\n",
    "    print(f\" p-value = {p_val:.4f}\")\n",
    "    \n",
    "    return p_val\n",
    "\n",
    "    # Find prob from z-score:\n",
    "    # left-tailed: scipy.stats.norm.sf(abs(-0.77))\n",
    "    # right-tailed: scipy.stats.norm.sf(abs(1.87))\n",
    "    # two-tailed: scipy.stats.norm.sf(abs(1.24))*2\n",
    "\n",
    "\n",
    "def z_test_twosample(x1,x2,sig_x1, sig_x2):\n",
    "    '''\n",
    "    Two-sample z-Test (Gaussian assumption)\n",
    "    Rule-of-thumb: If N > 10-20 or σ known then Z-test, else T-test.\n",
    "    This is a two-tailed test!\n",
    "    '''\n",
    "    z = (x1-x2)/(np.sqrt(sig_x1**2 + sig_x2**2))\n",
    "    #print(f\" z-score = {z}\")\n",
    "    print(f\" {x:.2f} is {z:.4f} sigma away from {mu:.2f}.\")\n",
    "\n",
    "    #find p-value for two-tailed test\n",
    "    p_val = stats.norm.sf(abs(z))*2\n",
    "    print(f\" p-value = {p_val:.4f}\")\n",
    "    \n",
    "    return p_val    \n",
    "\n"
   ]
  },
  {
   "cell_type": "code",
   "execution_count": null,
   "id": "edde1438",
   "metadata": {},
   "outputs": [],
   "source": [
    "# t-Test?"
   ]
  },
  {
   "cell_type": "code",
   "execution_count": null,
   "id": "f8786959",
   "metadata": {},
   "outputs": [],
   "source": [
    "# Chi2 of a histogram + fit:\n",
    "\n",
    "# needed input:\n",
    "hist1 = ax.hist(x_all, bins=Nbins, range=(xmin, xmax), histtype='step', linewidth=2, color='red', label='Gaussian ($\\mu$ = -0.5)')\n",
    "# Fit parameters, here: fit_N, fit_mu, fit_sigma\n",
    "\n",
    "\n",
    "# prepare caclulation:\n",
    "entries, bin_edges, _ = hist1\n",
    "bin_centers = 0.5*(bin_edges[:-1] + bin_edges[1:])\n",
    "\n",
    "hist1_x = bin_centers \n",
    "hist1_y = entries\n",
    "hist1_sy = np.sqrt(hist1_y)\n",
    "\n",
    " \n",
    "# calculate the chi2 value of the fit and the number of non-empty bins in a for-loop:\n",
    "chi2_val = 0\n",
    "N_NotEmptyBin = 0\n",
    "\n",
    "for x, y, sy in zip(hist1_x, hist1_y, hist1_sy):\n",
    "    if y > 0:\n",
    "        f = binwidth * gauss_extended(x, fit_N, fit_mu, fit_sigma)   # Calc the model value\n",
    "        chi2_val  += (y - f)**2 / sy**2                              # Calulate the chi2 value\n",
    "        N_NotEmptyBin += 1             # Count the bin as non-empty since y>0 (and thus sy>0)\n",
    "               \n",
    "        \n",
    "# Optimal way of utilizing Numpy's true power by vectorizing the code:\n",
    "f = binwidth * gauss_extended(hist1_x, fit_N, fit_mu, fit_sigma)\n",
    "mask_zeroes = (hist1_y > 0)\n",
    "\n",
    "chi2_val_np = np.sum( (f[mask_zeroes] - hist1_y[mask_zeroes])**2 / hist1_sy[mask_zeroes]**2)\n",
    "N_NotEmptyBin_np = np.sum(mask_zeroes)\n",
    "\n",
    "\n",
    "# Calculate Chi2 probability:\n",
    "N_DOF = N_NotEmptyBin - len(minuit.values[:])\n",
    "chi2_prob = stats.chi2.sf(chi2_val, N_DOF) # The chi2 probability given N_DOF degrees of freedom\n",
    "chi2_prob\n",
    "\n",
    "'''This shows us that there is a 80% probability of obtaining a worse fit just by chance. \n",
    " Or, to quote Wikipedia: \n",
    " The p-value is the probability of observing a test statistic at least as extreme in a chi-squared distribution. '''\n",
    "\n",
    "\n",
    "\n"
   ]
  },
  {
   "cell_type": "code",
   "execution_count": 125,
   "id": "2083f39e",
   "metadata": {},
   "outputs": [
    {
     "data": {
      "text/plain": [
       "1.4142135623730951"
      ]
     },
     "execution_count": 125,
     "metadata": {},
     "output_type": "execute_result"
    }
   ],
   "source": [
    "# KS-test:\n",
    "\n",
    "# Test if there is a difference with the Kolmogorov-Smirnov test on arrays (i.e. unbinned):\n",
    "# -----------------------------------------------------------------------------------------\n",
    "p_ks = stats.ks_2samp(x_A_array, x_B_array)[1]           # Fortunately, the K-S test is implemented in stats!\n",
    "\n"
   ]
  },
  {
   "cell_type": "code",
   "execution_count": null,
   "id": "006cd6c9",
   "metadata": {},
   "outputs": [],
   "source": [
    "# Fisher's exact test:\n",
    "'''calculates the probability of the entries in a contingency table to be uncorrelated. \n",
    "    Thus, the Null-Hypothesis is that the entries are uncorrelated, \n",
    "    while the alternative hypothesis represents the case where the entries are correlated\n",
    "'''\n",
    "\n",
    "\n",
    "# Contingency table:\n",
    "#              Vaccine :        Control :           Sum:\n",
    "# Positive:    A = cov_vacc    B = cov_plac\n",
    "# Negative:    C =  neg_vacc   D = neg_plac\n",
    "# Sum:        A+C = N_vacc     B+D = N_plac\n",
    "\n",
    "A = cov_vacc\n",
    "B = cov_plac\n",
    "C = N_vacc - cov_vacc\n",
    "D = N_plac - cov_plac\n",
    "N = N_vacc + N_plac\n",
    "\n",
    "\n",
    "p = (math.comb(A+C, A)*math.comb(B+D,B))/math.comb(N,A+B)\n",
    "print(p)\n",
    "\n",
    "# => small prob = the entries are correlated => the vaccine is effective!"
   ]
  },
  {
   "cell_type": "code",
   "execution_count": null,
   "id": "f6093959",
   "metadata": {},
   "outputs": [],
   "source": [
    "# Chi2 / Likelihood ratio test - compares two hypotheses:\n",
    "# --------------------------------------------------------------\n",
    "Chi2_1, Ndof_1 =167, 31    # full model    (more Ndof)\n",
    "Chi2_2, Ndof_2 =35, 28     # reduced model (less Ndof)\n",
    "\n",
    "new_Chi2 = Chi2_1 - Chi2_2\n",
    "new_Ndof = Ndof_1 - Ndof_2\n",
    "\n",
    "new_ProbChi2 = stats.chi2.sf(new_Chi2, new_Ndof)\n",
    "print(f\"p(Chi2={new_Chi2:.0f}, Ndof={new_Ndof}) = {new_ProbChi2:.2e}\")\n",
    "\n",
    "# p(Chi2=132, Ndof=3) = 2.00e-28 \n",
    "# => the probability that the two models are the same is very small, meaning that they are different (and the 2nd model is significantly better)\n",
    "\n",
    "\n",
    "\n"
   ]
  },
  {
   "cell_type": "code",
   "execution_count": null,
   "id": "46b9e0f0",
   "metadata": {},
   "outputs": [],
   "source": [
    "# Difference in the mean:\n",
    "def mean_std_sdom(x):\n",
    "    std = np.std(x, ddof=1)\n",
    "    return np.mean(x), std, std / np.sqrt(len(x))\n",
    "\n",
    "\n",
    "# Test if there is a difference in the mean:\n",
    "# ------------------------------------------\n",
    "# Calculate mean and error on mean:\n",
    "mean_A, width_A, sdom_A = mean_std_sdom(x_A_array) \n",
    "mean_B, width_B, sdom_B = mean_std_sdom(x_B_array) \n",
    "\n",
    "# Consider the difference between means in terms of the uncertainty:\n",
    "d_mean = mean_A - mean_B\n",
    "z_mean = d_mean/np.sqrt(sdom_A**2+sdom_B**2)\n",
    "\n",
    "# Turn a number of sigmas into a probability (i.e. p-value):\n",
    "p_mean = 1.0 - stats.norm.cdf(z_mean,loc=0,scale=1)  # To get a p-value, we ask what the chance is to get a larger difference\n",
    "\n"
   ]
  },
  {
   "cell_type": "markdown",
   "id": "532a872a",
   "metadata": {},
   "source": [
    "# Fisher discriminant"
   ]
  },
  {
   "cell_type": "code",
   "execution_count": null,
   "id": "87b5711a",
   "metadata": {},
   "outputs": [],
   "source": [
    "# Fisher discriminant \n",
    "def Fisher_disc(set_A, set_B):\n",
    "    ''' \n",
    "    Calculates Fisher discriminant between two datasets.\n",
    "    Input required: set_A and set_B, where columns = discriminating variables and rows = observations.\n",
    "    Returns the two separated datasets along the discriminant \n",
    "    and the distance between these distributions as measure of goodness of separation.\n",
    "    '''\n",
    "    \n",
    "    mu_A = np.mean(set_A, 0)\n",
    "    mu_B = np.mean(set_B, 0)\n",
    "    \n",
    "    cov_A = np.cov(set_A, rowvar=False)        # covariance matrix\n",
    "    cov_B = np.cov(set_B, rowvar=False)\n",
    "    \n",
    "    cov_sum = cov_A + cov_B\n",
    "    cov_sum_inv = np.linalg.inv(cov_sum)\n",
    "    \n",
    "    wf = np.dot(cov_sum_inv, (mu_A - mu_B))   # Fisher weights\n",
    "    \n",
    "    fisher_data_A = np.dot(wf, set_A.T)      #  Fisher discriminant\n",
    "    fisher_data_B = np.dot(wf, set_B.T)\n",
    "    \n",
    "    d = np.abs((np.mean(fisher_data_A) - np.mean(fisher_data_B))) / np.sqrt(np.std(fisher_data_A, ddof=1)**2 + np.std(fisher_data_B, ddof=1)**2)  \n",
    "    print(f\" Fisher separation (distance): {d:.4f}\")\n",
    "    \n",
    "    return fisher_data_A, fisher_data_B, d\n",
    "\n",
    "# ---------------------------------------------------------------\n",
    "\n",
    "    \n",
    "fisher_data_A, fisher_data_B, dist = Fisher_disc(AB_ill, AB_healthy)\n",
    "\n",
    "# plot histogram\n",
    "xmin, xmax = -30, 0\n",
    "Nbins = 25\n",
    "fig_fisher, ax_fisher = plt.subplots(figsize=(10, 5))\n",
    "ax_fisher.hist(fisher_data_A, Nbins, (xmin, xmax), histtype='step', color='Red', label='Species A')\n",
    "ax_fisher.hist(fisher_data_B, Nbins, (xmin, xmax), histtype='step', color='Blue', label='Species B')\n",
    "ax_fisher.set(xlim=(xmin, xmax), xlabel='Fisher discriminant', title=f'Fisher discriminant \\n$\\Delta_{{fisher}} = {dist:.2f}$'))\n",
    "ax_fisher.legend()\n",
    "#ax_fisher.text(-7,500, fr'$\\Delta_{{fisher}} = {dist:.3f}$', fontsize=16)\n",
    "fig_fisher.tight_layout()\n",
    "\n",
    "#fig_fisher.savefig('FisherOutput.pdf', dpi=600)\n",
    "\n"
   ]
  },
  {
   "cell_type": "markdown",
   "id": "2319e355",
   "metadata": {},
   "source": [
    "### ROC curve"
   ]
  },
  {
   "cell_type": "code",
   "execution_count": null,
   "id": "e60fa3ed",
   "metadata": {},
   "outputs": [],
   "source": [
    "# ROC curves:\n",
    "#!pip install scikit-learn\n",
    "from sklearn.metrics import roc_curve, auc\n",
    "\n",
    "\n",
    "# Required Input: a matrix where columns: 0 = labels, 1 - n = variables\n",
    "data = np.array(Fisher_df.drop(columns=['Index']))\n",
    "\n",
    "fisher_ABC = np.concatenate([fisher_data_A1, fisher_data_B1])\n",
    "fisher_AB = np.concatenate([fisher_data_A2, fisher_data_B2])\n",
    "fisher_BC = np.concatenate([fisher_data_A3, fisher_data_B3])\n",
    "fisher_AC = np.concatenate([fisher_data_A4, fisher_data_B4])\n",
    "\n",
    "# for the roc_curve func, positives > negatives. \n",
    "# If that is not the case along some dimensions (see hist), take -1*data[:,3]\n",
    "fprA, tprA, tA = roc_curve(data[:,0], data[:,1])      \n",
    "fprB, tprB, tB = roc_curve(data[:,0], -1*data[:,2])\n",
    "fprC, tprC, tC = roc_curve(data[:,0], -1*data[:,3])\n",
    "\n",
    "fprABC, tprABC, tABC = roc_curve(data[:,0], fisher_ABC)\n",
    "fprAB, tprAB, tAB = roc_curve(data[:,0], fisher_AB)\n",
    "fprBC, tprBC, tBC = roc_curve(data[:,0], fisher_BC)\n",
    "fprAC, tprAC, tAC = roc_curve(data[:,0], fisher_AC)\n",
    "\n",
    "\n",
    "# Plot ROC curves:\n",
    "fig, ax = plt.subplots(figsize=(10,8))\n",
    "ax.plot(fprA, tprA, label=f'Separation based on A (AUC={auc(fprA,tprA):.4f})')\n",
    "ax.plot(fprB, tprB, label=f'Separation based on B (AUC={auc(fprB,tprB):.4f})')\n",
    "ax.plot(fprC, tprC, label=f'Separation based on C (AUC={auc(fprC,tprC):.4f})')\n",
    "\n",
    "ax.plot(fprABC, tprABC, label=f'Separation based on ABC (Fisher) (AUC={auc(fprABC,tprABC):.4f})')\n",
    "ax.plot(fprAB, tprAB, label=f'Separation based on AB (Fisher) (AUC={auc(fprAB,tprAB):.4f})')\n",
    "ax.plot(fprBC, tprBC, label=f'Separation based on BC (Fisher) (AUC={auc(fprBC,tprBC):.4f})')\n",
    "ax.plot(fprAC, tprAC, label=f'Separation based on AC (Fisher) (AUC={auc(fprAC,tprAC):.4f})')\n",
    "\n",
    "ax.plot([0, 1], [0, 1], color=\"navy\", lw=2, linestyle=\"--\", label='Random classifier')\n",
    "ax.set(xlabel=\"False Positive Rate\", ylabel=\"True Positive Rate\", title='ROC curves')\n",
    "ax.legend()\n",
    "\n",
    "#fig.savefig('ROC_curves.pdf', dpi=600)\n"
   ]
  },
  {
   "cell_type": "code",
   "execution_count": null,
   "id": "867424c5",
   "metadata": {},
   "outputs": [],
   "source": [
    "# Make example code / functions for:\n",
    "\n",
    "\n",
    "# example of how to use Latex in Jupyter\n",
    "\n",
    "\n",
    "\n",
    "\n"
   ]
  },
  {
   "cell_type": "code",
   "execution_count": null,
   "id": "79b1d4f0",
   "metadata": {},
   "outputs": [],
   "source": []
  },
  {
   "cell_type": "code",
   "execution_count": null,
   "id": "d4c15fb8",
   "metadata": {},
   "outputs": [],
   "source": []
  }
 ],
 "metadata": {
  "kernelspec": {
   "display_name": "Python 3 (ipykernel)",
   "language": "python",
   "name": "python3"
  },
  "language_info": {
   "codemirror_mode": {
    "name": "ipython",
    "version": 3
   },
   "file_extension": ".py",
   "mimetype": "text/x-python",
   "name": "python",
   "nbconvert_exporter": "python",
   "pygments_lexer": "ipython3",
   "version": "3.9.7"
  }
 },
 "nbformat": 4,
 "nbformat_minor": 5
}
